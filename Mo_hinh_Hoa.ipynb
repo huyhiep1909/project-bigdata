{
 "cells": [
  {
   "cell_type": "code",
   "execution_count": 38,
   "id": "b4ddb635",
   "metadata": {},
   "outputs": [],
   "source": [
    "from pyspark.sql import SparkSession\n",
    "from pyspark import *"
   ]
  },
  {
   "cell_type": "code",
   "execution_count": 39,
   "id": "113a4a48",
   "metadata": {},
   "outputs": [],
   "source": [
    "sparkSession = SparkSession.builder.appName(\"example\").getOrCreate()"
   ]
  },
  {
   "cell_type": "code",
   "execution_count": 40,
   "id": "2436f437",
   "metadata": {},
   "outputs": [],
   "source": [
    "df_load = sparkSession.read.csv('hdfs://localhost:9000/user/BTL/data/Tiki.csv', header = True)"
   ]
  },
  {
   "cell_type": "code",
   "execution_count": 41,
   "id": "16103e83",
   "metadata": {},
   "outputs": [
    {
     "data": {
      "text/plain": [
       "Column<'Ten'>"
      ]
     },
     "execution_count": 41,
     "metadata": {},
     "output_type": "execute_result"
    }
   ],
   "source": [
    "df_load['Ten']"
   ]
  },
  {
   "cell_type": "code",
   "execution_count": 42,
   "id": "23e0dd65",
   "metadata": {},
   "outputs": [],
   "source": [
    "df_load = df_load.toPandas()"
   ]
  },
  {
   "cell_type": "code",
   "execution_count": 43,
   "id": "13604969",
   "metadata": {},
   "outputs": [
    {
     "data": {
      "text/html": [
       "<div>\n",
       "<style scoped>\n",
       "    .dataframe tbody tr th:only-of-type {\n",
       "        vertical-align: middle;\n",
       "    }\n",
       "\n",
       "    .dataframe tbody tr th {\n",
       "        vertical-align: top;\n",
       "    }\n",
       "\n",
       "    .dataframe thead th {\n",
       "        text-align: right;\n",
       "    }\n",
       "</style>\n",
       "<table border=\"1\" class=\"dataframe\">\n",
       "  <thead>\n",
       "    <tr style=\"text-align: right;\">\n",
       "      <th></th>\n",
       "      <th>_c0</th>\n",
       "      <th>Ten</th>\n",
       "      <th>Đánh giá</th>\n",
       "      <th>Giá</th>\n",
       "      <th>Đã bán</th>\n",
       "      <th>Miễn ship</th>\n",
       "    </tr>\n",
       "  </thead>\n",
       "  <tbody>\n",
       "    <tr>\n",
       "      <th>0</th>\n",
       "      <td>0</td>\n",
       "      <td>Sách - Combo Đắc Nhân Tâm, Quẳng Gánh Lo đi &amp; ...</td>\n",
       "      <td>None</td>\n",
       "      <td>256700 ₫</td>\n",
       "      <td>None</td>\n",
       "      <td>no</td>\n",
       "    </tr>\n",
       "    <tr>\n",
       "      <th>1</th>\n",
       "      <td>1</td>\n",
       "      <td>Cây Cam Ngọt Của Tôi</td>\n",
       "      <td>5</td>\n",
       "      <td>73800 ₫</td>\n",
       "      <td>Đã bán 2765</td>\n",
       "      <td>no</td>\n",
       "    </tr>\n",
       "    <tr>\n",
       "      <th>2</th>\n",
       "      <td>2</td>\n",
       "      <td>Hành Tinh Của Một Kẻ Nghĩ Nhiều</td>\n",
       "      <td>4.8</td>\n",
       "      <td>58100 ₫</td>\n",
       "      <td>Đã bán 5000+</td>\n",
       "      <td>yes</td>\n",
       "    </tr>\n",
       "    <tr>\n",
       "      <th>3</th>\n",
       "      <td>3</td>\n",
       "      <td>Thao Túng Tâm Lý</td>\n",
       "      <td>4.7</td>\n",
       "      <td>100900 ₫</td>\n",
       "      <td>Đã bán 5000+</td>\n",
       "      <td>yes</td>\n",
       "    </tr>\n",
       "    <tr>\n",
       "      <th>4</th>\n",
       "      <td>4</td>\n",
       "      <td>Ghi Chép Pháp Y – Những Cái Chết Bí Ẩn</td>\n",
       "      <td>5</td>\n",
       "      <td>105000 ₫</td>\n",
       "      <td>Đã bán 1848</td>\n",
       "      <td>yes</td>\n",
       "    </tr>\n",
       "    <tr>\n",
       "      <th>...</th>\n",
       "      <td>...</td>\n",
       "      <td>...</td>\n",
       "      <td>...</td>\n",
       "      <td>...</td>\n",
       "      <td>...</td>\n",
       "      <td>...</td>\n",
       "    </tr>\n",
       "    <tr>\n",
       "      <th>2425</th>\n",
       "      <td>2425</td>\n",
       "      <td>Móc khóa gấu bông dễ thương đáng yêu - Móc tre...</td>\n",
       "      <td>5</td>\n",
       "      <td>19000 ₫</td>\n",
       "      <td>Đã bán 217</td>\n",
       "      <td>yes</td>\n",
       "    </tr>\n",
       "    <tr>\n",
       "      <th>2426</th>\n",
       "      <td>2426</td>\n",
       "      <td>Tâm Lý Học Hành Vi (Tặng Kèm 1 Bookmark )</td>\n",
       "      <td>5</td>\n",
       "      <td>70500 ₫</td>\n",
       "      <td>Đã bán 5000+</td>\n",
       "      <td>yes</td>\n",
       "    </tr>\n",
       "    <tr>\n",
       "      <th>2427</th>\n",
       "      <td>2427</td>\n",
       "      <td>Power Vs Force - Trường Năng Lượng Và Những Nh...</td>\n",
       "      <td>5</td>\n",
       "      <td>124000 ₫</td>\n",
       "      <td>Đã bán 3494</td>\n",
       "      <td>yes</td>\n",
       "    </tr>\n",
       "    <tr>\n",
       "      <th>2428</th>\n",
       "      <td>2428</td>\n",
       "      <td>Sách Nghĩ Giàu Và Làm Giàu (Bìa Mềm)</td>\n",
       "      <td>4.8</td>\n",
       "      <td>84100 ₫</td>\n",
       "      <td>Đã bán 5000+</td>\n",
       "      <td>yes</td>\n",
       "    </tr>\n",
       "    <tr>\n",
       "      <th>2429</th>\n",
       "      <td>2429</td>\n",
       "      <td>Sách Đi Tìm Lẽ Sống (Tái Bản )</td>\n",
       "      <td>4.8</td>\n",
       "      <td>61100 ₫</td>\n",
       "      <td>Đã bán 5000+</td>\n",
       "      <td>yes</td>\n",
       "    </tr>\n",
       "  </tbody>\n",
       "</table>\n",
       "<p>2430 rows × 6 columns</p>\n",
       "</div>"
      ],
      "text/plain": [
       "       _c0                                                Ten Đánh giá  \\\n",
       "0        0  Sách - Combo Đắc Nhân Tâm, Quẳng Gánh Lo đi & ...     None   \n",
       "1        1                               Cây Cam Ngọt Của Tôi        5   \n",
       "2        2                    Hành Tinh Của Một Kẻ Nghĩ Nhiều      4.8   \n",
       "3        3                                   Thao Túng Tâm Lý      4.7   \n",
       "4        4             Ghi Chép Pháp Y – Những Cái Chết Bí Ẩn        5   \n",
       "...    ...                                                ...      ...   \n",
       "2425  2425  Móc khóa gấu bông dễ thương đáng yêu - Móc tre...        5   \n",
       "2426  2426          Tâm Lý Học Hành Vi (Tặng Kèm 1 Bookmark )        5   \n",
       "2427  2427  Power Vs Force - Trường Năng Lượng Và Những Nh...        5   \n",
       "2428  2428               Sách Nghĩ Giàu Và Làm Giàu (Bìa Mềm)      4.8   \n",
       "2429  2429                     Sách Đi Tìm Lẽ Sống (Tái Bản )      4.8   \n",
       "\n",
       "           Giá        Đã bán Miễn ship  \n",
       "0     256700 ₫          None        no  \n",
       "1      73800 ₫   Đã bán 2765        no  \n",
       "2      58100 ₫  Đã bán 5000+       yes  \n",
       "3     100900 ₫  Đã bán 5000+       yes  \n",
       "4     105000 ₫   Đã bán 1848       yes  \n",
       "...        ...           ...       ...  \n",
       "2425   19000 ₫    Đã bán 217       yes  \n",
       "2426   70500 ₫  Đã bán 5000+       yes  \n",
       "2427  124000 ₫   Đã bán 3494       yes  \n",
       "2428   84100 ₫  Đã bán 5000+       yes  \n",
       "2429   61100 ₫  Đã bán 5000+       yes  \n",
       "\n",
       "[2430 rows x 6 columns]"
      ]
     },
     "execution_count": 43,
     "metadata": {},
     "output_type": "execute_result"
    }
   ],
   "source": [
    "df_load"
   ]
  },
  {
   "cell_type": "code",
   "execution_count": 44,
   "id": "164ffaca",
   "metadata": {},
   "outputs": [],
   "source": [
    "length = df_load.shape[0]"
   ]
  },
  {
   "cell_type": "code",
   "execution_count": 45,
   "id": "f0687f24",
   "metadata": {},
   "outputs": [],
   "source": [
    "for i in range(length):\n",
    "    df_load['Giá'].values[i] = df_load['Giá'].values[i].split(\" \")[0]"
   ]
  },
  {
   "cell_type": "code",
   "execution_count": 46,
   "id": "5f612305",
   "metadata": {},
   "outputs": [
    {
     "data": {
      "text/html": [
       "<div>\n",
       "<style scoped>\n",
       "    .dataframe tbody tr th:only-of-type {\n",
       "        vertical-align: middle;\n",
       "    }\n",
       "\n",
       "    .dataframe tbody tr th {\n",
       "        vertical-align: top;\n",
       "    }\n",
       "\n",
       "    .dataframe thead th {\n",
       "        text-align: right;\n",
       "    }\n",
       "</style>\n",
       "<table border=\"1\" class=\"dataframe\">\n",
       "  <thead>\n",
       "    <tr style=\"text-align: right;\">\n",
       "      <th></th>\n",
       "      <th>_c0</th>\n",
       "      <th>Ten</th>\n",
       "      <th>Đánh giá</th>\n",
       "      <th>Giá</th>\n",
       "      <th>Đã bán</th>\n",
       "      <th>Miễn ship</th>\n",
       "    </tr>\n",
       "  </thead>\n",
       "  <tbody>\n",
       "    <tr>\n",
       "      <th>0</th>\n",
       "      <td>0</td>\n",
       "      <td>Sách - Combo Đắc Nhân Tâm, Quẳng Gánh Lo đi &amp; ...</td>\n",
       "      <td>None</td>\n",
       "      <td>256700</td>\n",
       "      <td>None</td>\n",
       "      <td>no</td>\n",
       "    </tr>\n",
       "    <tr>\n",
       "      <th>1</th>\n",
       "      <td>1</td>\n",
       "      <td>Cây Cam Ngọt Của Tôi</td>\n",
       "      <td>5</td>\n",
       "      <td>73800</td>\n",
       "      <td>Đã bán 2765</td>\n",
       "      <td>no</td>\n",
       "    </tr>\n",
       "    <tr>\n",
       "      <th>2</th>\n",
       "      <td>2</td>\n",
       "      <td>Hành Tinh Của Một Kẻ Nghĩ Nhiều</td>\n",
       "      <td>4.8</td>\n",
       "      <td>58100</td>\n",
       "      <td>Đã bán 5000+</td>\n",
       "      <td>yes</td>\n",
       "    </tr>\n",
       "    <tr>\n",
       "      <th>3</th>\n",
       "      <td>3</td>\n",
       "      <td>Thao Túng Tâm Lý</td>\n",
       "      <td>4.7</td>\n",
       "      <td>100900</td>\n",
       "      <td>Đã bán 5000+</td>\n",
       "      <td>yes</td>\n",
       "    </tr>\n",
       "    <tr>\n",
       "      <th>4</th>\n",
       "      <td>4</td>\n",
       "      <td>Ghi Chép Pháp Y – Những Cái Chết Bí Ẩn</td>\n",
       "      <td>5</td>\n",
       "      <td>105000</td>\n",
       "      <td>Đã bán 1848</td>\n",
       "      <td>yes</td>\n",
       "    </tr>\n",
       "    <tr>\n",
       "      <th>...</th>\n",
       "      <td>...</td>\n",
       "      <td>...</td>\n",
       "      <td>...</td>\n",
       "      <td>...</td>\n",
       "      <td>...</td>\n",
       "      <td>...</td>\n",
       "    </tr>\n",
       "    <tr>\n",
       "      <th>2425</th>\n",
       "      <td>2425</td>\n",
       "      <td>Móc khóa gấu bông dễ thương đáng yêu - Móc tre...</td>\n",
       "      <td>5</td>\n",
       "      <td>19000</td>\n",
       "      <td>Đã bán 217</td>\n",
       "      <td>yes</td>\n",
       "    </tr>\n",
       "    <tr>\n",
       "      <th>2426</th>\n",
       "      <td>2426</td>\n",
       "      <td>Tâm Lý Học Hành Vi (Tặng Kèm 1 Bookmark )</td>\n",
       "      <td>5</td>\n",
       "      <td>70500</td>\n",
       "      <td>Đã bán 5000+</td>\n",
       "      <td>yes</td>\n",
       "    </tr>\n",
       "    <tr>\n",
       "      <th>2427</th>\n",
       "      <td>2427</td>\n",
       "      <td>Power Vs Force - Trường Năng Lượng Và Những Nh...</td>\n",
       "      <td>5</td>\n",
       "      <td>124000</td>\n",
       "      <td>Đã bán 3494</td>\n",
       "      <td>yes</td>\n",
       "    </tr>\n",
       "    <tr>\n",
       "      <th>2428</th>\n",
       "      <td>2428</td>\n",
       "      <td>Sách Nghĩ Giàu Và Làm Giàu (Bìa Mềm)</td>\n",
       "      <td>4.8</td>\n",
       "      <td>84100</td>\n",
       "      <td>Đã bán 5000+</td>\n",
       "      <td>yes</td>\n",
       "    </tr>\n",
       "    <tr>\n",
       "      <th>2429</th>\n",
       "      <td>2429</td>\n",
       "      <td>Sách Đi Tìm Lẽ Sống (Tái Bản )</td>\n",
       "      <td>4.8</td>\n",
       "      <td>61100</td>\n",
       "      <td>Đã bán 5000+</td>\n",
       "      <td>yes</td>\n",
       "    </tr>\n",
       "  </tbody>\n",
       "</table>\n",
       "<p>2430 rows × 6 columns</p>\n",
       "</div>"
      ],
      "text/plain": [
       "       _c0                                                Ten Đánh giá  \\\n",
       "0        0  Sách - Combo Đắc Nhân Tâm, Quẳng Gánh Lo đi & ...     None   \n",
       "1        1                               Cây Cam Ngọt Của Tôi        5   \n",
       "2        2                    Hành Tinh Của Một Kẻ Nghĩ Nhiều      4.8   \n",
       "3        3                                   Thao Túng Tâm Lý      4.7   \n",
       "4        4             Ghi Chép Pháp Y – Những Cái Chết Bí Ẩn        5   \n",
       "...    ...                                                ...      ...   \n",
       "2425  2425  Móc khóa gấu bông dễ thương đáng yêu - Móc tre...        5   \n",
       "2426  2426          Tâm Lý Học Hành Vi (Tặng Kèm 1 Bookmark )        5   \n",
       "2427  2427  Power Vs Force - Trường Năng Lượng Và Những Nh...        5   \n",
       "2428  2428               Sách Nghĩ Giàu Và Làm Giàu (Bìa Mềm)      4.8   \n",
       "2429  2429                     Sách Đi Tìm Lẽ Sống (Tái Bản )      4.8   \n",
       "\n",
       "         Giá        Đã bán Miễn ship  \n",
       "0     256700          None        no  \n",
       "1      73800   Đã bán 2765        no  \n",
       "2      58100  Đã bán 5000+       yes  \n",
       "3     100900  Đã bán 5000+       yes  \n",
       "4     105000   Đã bán 1848       yes  \n",
       "...      ...           ...       ...  \n",
       "2425   19000    Đã bán 217       yes  \n",
       "2426   70500  Đã bán 5000+       yes  \n",
       "2427  124000   Đã bán 3494       yes  \n",
       "2428   84100  Đã bán 5000+       yes  \n",
       "2429   61100  Đã bán 5000+       yes  \n",
       "\n",
       "[2430 rows x 6 columns]"
      ]
     },
     "execution_count": 46,
     "metadata": {},
     "output_type": "execute_result"
    }
   ],
   "source": [
    "df_load"
   ]
  },
  {
   "cell_type": "code",
   "execution_count": 49,
   "id": "79e31229",
   "metadata": {},
   "outputs": [
    {
     "name": "stdout",
     "output_type": "stream",
     "text": [
      "Data distribution analysys\n"
     ]
    },
    {
     "data": {
      "image/png": "[encoded data removed]",
      "text/plain": [
       "<Figure size 1296x720 with 1 Axes>"
      ]
     },
     "metadata": {
      "needs_background": "light"
     },
     "output_type": "display_data"
    },
    {
     "data": {
      "image/png": "[encoded data removed]",
      "text/plain": [
       "<Figure size 1296x720 with 1 Axes>"
      ]
     },
     "metadata": {
      "needs_background": "light"
     },
     "output_type": "display_data"
    },
    {
     "data": {
      "image/png": "[encoded data removed]",
      "text/plain": [
       "<Figure size 1296x720 with 1 Axes>"
      ]
     },
     "metadata": {
      "needs_background": "light"
     },
     "output_type": "display_data"
    },
    {
     "data": {
      "image/png": "[encoded data removed]",
      "text/plain": [
       "<Figure size 1296x720 with 1 Axes>"
      ]
     },
     "metadata": {
      "needs_background": "light"
     },
     "output_type": "display_data"
    }
   ],
   "source": [
    "import seaborn as sns\n",
    "from matplotlib import pyplot as plt\n",
    "%matplotlib inline\n",
    "\n",
    "plt.rcParams[\"figure.figsize\"] = (18,10)\n",
    "\n",
    "attribute = ['Đánh giá', 'Giá', 'Đã bán', 'Miễn ship']\n",
    "\n",
    "# data distribution analysys\n",
    "print('Data distribution analysys')\n",
    "for attr in attribute:\n",
    "    df_load = df_load.head(100).sort_values(by=[attr])\n",
    "    df_load[attr].value_counts().plot(kind = 'bar')\n",
    "    plt.title(attr)\n",
    "    plt.show()"
   ]
  },
  {
   "cell_type": "code",
   "execution_count": 52,
   "id": "9fe42ba8",
   "metadata": {},
   "outputs": [
    {
     "data": {
      "text/plain": [
       "85    326400\n",
       "35    659000\n",
       "89     52900\n",
       "88     53700\n",
       "38     53700\n",
       "       ...  \n",
       "42     52100\n",
       "47    124000\n",
       "97    124000\n",
       "43     67000\n",
       "11     96000\n",
       "Name: Giá, Length: 100, dtype: object"
      ]
     },
     "execution_count": 52,
     "metadata": {},
     "output_type": "execute_result"
    }
   ],
   "source": [
    "df_load[\"Giá\"]"
   ]
  },
  {
   "cell_type": "code",
   "execution_count": 53,
   "id": "face1f2f",
   "metadata": {},
   "outputs": [],
   "source": [
    "# Thêm model dự đánh giá của người dùng"
   ]
  },
  {
   "cell_type": "code",
   "execution_count": null,
   "id": "118c84a9",
   "metadata": {},
   "outputs": [],
   "source": []
  }
 ],
 "metadata": {
  "kernelspec": {
   "display_name": "Python 3 (ipykernel)",
   "language": "python",
   "name": "python3"
  },
  "language_info": {
   "codemirror_mode": {
    "name": "ipython",
    "version": 3
   },
   "file_extension": ".py",
   "mimetype": "text/x-python",
   "name": "python",
   "nbconvert_exporter": "python",
   "pygments_lexer": "ipython3",
   "version": "3.9.12"
  }
 },
 "nbformat": 4,
 "nbformat_minor": 5
}
